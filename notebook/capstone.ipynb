{
 "cells": [
  {
   "cell_type": "code",
   "execution_count": 1,
   "id": "b5a3bdda-d8d0-4dd5-8240-c23fa9c9e8d3",
   "metadata": {},
   "outputs": [],
   "source": [
    "import pandas as pd\n",
    "import numpy as np\n",
    "from datetime import datetime\n",
    "import matplotlib.pyplot as plt\n"
   ]
  },
  {
   "cell_type": "code",
   "execution_count": 34,
   "id": "5ad43d91-2c77-4927-ac79-43eff25fd052",
   "metadata": {
    "scrolled": true
   },
   "outputs": [
    {
     "name": "stdout",
     "output_type": "stream",
     "text": [
      "<class 'pandas.core.frame.DataFrame'>\n",
      "RangeIndex: 50103 entries, 0 to 50102\n",
      "Data columns (total 20 columns):\n",
      " #   Column          Non-Null Count  Dtype  \n",
      "---  ------          --------------  -----  \n",
      " 0   CASENUM         50103 non-null  float64\n",
      " 1   REGIONNAME      50103 non-null  object \n",
      " 2   URBANICITYNAME  50103 non-null  object \n",
      " 3   PJ              50103 non-null  int64  \n",
      " 4   MONTHNAME       50103 non-null  object \n",
      " 5   DAY_WEEKNAME    50103 non-null  object \n",
      " 6   YEAR            50103 non-null  int64  \n",
      " 7   HOUR            50103 non-null  int64  \n",
      " 8   MINUTE          50103 non-null  int64  \n",
      " 9   HARM_EVNAME     50103 non-null  object \n",
      " 10  MAN_COLLNAME    50103 non-null  object \n",
      " 11  RELJCT1NAME     50103 non-null  object \n",
      " 12  RELJCT2NAME     50103 non-null  object \n",
      " 13  TYP_INTNAME     50103 non-null  object \n",
      " 14  REL_ROADNAME    50103 non-null  object \n",
      " 15  LGT_CONDNAME    50103 non-null  object \n",
      " 16  WEATHERNAME     50103 non-null  object \n",
      " 17  MAX_SEVNAME     50103 non-null  object \n",
      " 18  NUM_INJNAME     50103 non-null  object \n",
      " 19  ALCOHOLNAME     50103 non-null  object \n",
      "dtypes: float64(1), int64(4), object(15)\n",
      "memory usage: 7.6+ MB\n"
     ]
    }
   ],
   "source": [
    "desired_columns = ['CASENUM', 'REGIONNAME', 'URBANICITYNAME','PJ','MONTHNAME','DAY_WEEKNAME','YEAR',\n",
    "                   'HOUR','MINUTE','HARM_EVNAME','MAN_COLLNAME','RELJCT1NAME','RELJCT2NAME','TYP_INTNAME',\n",
    "                    'REL_ROADNAME','LGT_CONDNAME','WEATHERNAME','MAX_SEVNAME','NUM_INJNAME','ALCOHOLNAME'\n",
    "                                    \n",
    "                  ]\n",
    "\n",
    "accident_df_2023=pd.read_csv('../data/CRSS_2023/accident.csv',usecols=desired_columns)\n",
    "accident_df_2023.info()"
   ]
  },
  {
   "cell_type": "code",
   "execution_count": 35,
   "id": "382dc908-a7e8-4607-a06e-b50c7a8cb0e3",
   "metadata": {},
   "outputs": [
    {
     "name": "stdout",
     "output_type": "stream",
     "text": [
      "<class 'pandas.core.frame.DataFrame'>\n",
      "RangeIndex: 53955 entries, 0 to 53954\n",
      "Data columns (total 20 columns):\n",
      " #   Column          Non-Null Count  Dtype  \n",
      "---  ------          --------------  -----  \n",
      " 0   CASENUM         53955 non-null  float64\n",
      " 1   REGIONNAME      53955 non-null  object \n",
      " 2   URBANICITYNAME  53955 non-null  object \n",
      " 3   PJ              53955 non-null  int64  \n",
      " 4   MONTHNAME       53955 non-null  object \n",
      " 5   DAY_WEEKNAME    53955 non-null  object \n",
      " 6   YEAR            53955 non-null  int64  \n",
      " 7   HOUR            53955 non-null  int64  \n",
      " 8   MINUTE          53955 non-null  int64  \n",
      " 9   HARM_EVNAME     53955 non-null  object \n",
      " 10  MAN_COLLNAME    53955 non-null  object \n",
      " 11  RELJCT1NAME     53955 non-null  object \n",
      " 12  RELJCT2NAME     53955 non-null  object \n",
      " 13  TYP_INTNAME     53955 non-null  object \n",
      " 14  REL_ROADNAME    53955 non-null  object \n",
      " 15  LGT_CONDNAME    53955 non-null  object \n",
      " 16  WEATHERNAME     53955 non-null  object \n",
      " 17  MAX_SEVNAME     53955 non-null  object \n",
      " 18  NUM_INJNAME     53955 non-null  object \n",
      " 19  ALCOHOLNAME     53955 non-null  object \n",
      "dtypes: float64(1), int64(4), object(15)\n",
      "memory usage: 8.2+ MB\n"
     ]
    }
   ],
   "source": [
    "desired_columns = ['CASENUM', 'REGIONNAME', 'URBANICITYNAME','PJ','MONTHNAME','DAY_WEEKNAME','YEAR',\n",
    "                   'HOUR','MINUTE','HARM_EVNAME','MAN_COLLNAME','RELJCT1NAME','RELJCT2NAME','TYP_INTNAME',\n",
    "                    'REL_ROADNAME','LGT_CONDNAME','WEATHERNAME','MAX_SEVNAME','NUM_INJNAME','ALCOHOLNAME'\n",
    "                                    \n",
    "                  ]\n",
    "\n",
    "accident_df_2022=pd.read_csv('../data/CRSS_2022/accident.csv',usecols=desired_columns)\n",
    "accident_df_2022.info()"
   ]
  },
  {
   "cell_type": "code",
   "execution_count": 36,
   "id": "7e3152d2-36c1-42ee-a374-e035c853b8d7",
   "metadata": {},
   "outputs": [
    {
     "name": "stdout",
     "output_type": "stream",
     "text": [
      "<class 'pandas.core.frame.DataFrame'>\n",
      "RangeIndex: 54200 entries, 0 to 54199\n",
      "Data columns (total 20 columns):\n",
      " #   Column          Non-Null Count  Dtype \n",
      "---  ------          --------------  ----- \n",
      " 0   CASENUM         54200 non-null  int64 \n",
      " 1   REGIONNAME      54200 non-null  object\n",
      " 2   URBANICITYNAME  54200 non-null  object\n",
      " 3   PJ              54200 non-null  int64 \n",
      " 4   MONTHNAME       54200 non-null  object\n",
      " 5   DAY_WEEKNAME    54200 non-null  object\n",
      " 6   YEAR            54200 non-null  int64 \n",
      " 7   HOUR            54200 non-null  int64 \n",
      " 8   MINUTE          54200 non-null  int64 \n",
      " 9   HARM_EVNAME     54200 non-null  object\n",
      " 10  MAN_COLLNAME    54200 non-null  object\n",
      " 11  RELJCT1NAME     54200 non-null  object\n",
      " 12  RELJCT2NAME     54200 non-null  object\n",
      " 13  TYP_INTNAME     54200 non-null  object\n",
      " 14  REL_ROADNAME    54200 non-null  object\n",
      " 15  LGT_CONDNAME    54200 non-null  object\n",
      " 16  WEATHERNAME     54200 non-null  object\n",
      " 17  MAX_SEVNAME     54200 non-null  object\n",
      " 18  NUM_INJNAME     54200 non-null  object\n",
      " 19  ALCOHOLNAME     54200 non-null  object\n",
      "dtypes: int64(5), object(15)\n",
      "memory usage: 8.3+ MB\n"
     ]
    }
   ],
   "source": [
    "desired_columns = ['CASENUM', 'REGIONNAME', 'URBANICITYNAME','PJ','MONTHNAME','DAY_WEEKNAME','YEAR',\n",
    "                   'HOUR','MINUTE','HARM_EVNAME','MAN_COLLNAME','RELJCT1NAME','RELJCT2NAME','TYP_INTNAME',\n",
    "                    'REL_ROADNAME','LGT_CONDNAME','WEATHERNAME','MAX_SEVNAME','NUM_INJNAME','ALCOHOLNAME'\n",
    "                                    \n",
    "                  ]\n",
    "\n",
    "accident_df_2021=pd.read_csv('../data/CRSS_2021/accident.csv',usecols=desired_columns)\n",
    "accident_df_2021.info()"
   ]
  },
  {
   "cell_type": "code",
   "execution_count": 37,
   "id": "cf9320f6-2c38-4150-96dc-0d80a40df8b4",
   "metadata": {},
   "outputs": [
    {
     "name": "stdout",
     "output_type": "stream",
     "text": [
      "<class 'pandas.core.frame.DataFrame'>\n",
      "RangeIndex: 54745 entries, 0 to 54744\n",
      "Data columns (total 20 columns):\n",
      " #   Column          Non-Null Count  Dtype \n",
      "---  ------          --------------  ----- \n",
      " 0   CASENUM         54745 non-null  int64 \n",
      " 1   REGIONNAME      54745 non-null  object\n",
      " 2   PJ              54745 non-null  int64 \n",
      " 3   URBANICITYNAME  54745 non-null  object\n",
      " 4   NUM_INJNAME     54745 non-null  object\n",
      " 5   MONTHNAME       54745 non-null  object\n",
      " 6   YEAR            54745 non-null  int64 \n",
      " 7   DAY_WEEKNAME    54745 non-null  object\n",
      " 8   HOUR            54745 non-null  int64 \n",
      " 9   MINUTE          54745 non-null  int64 \n",
      " 10  HARM_EVNAME     54745 non-null  object\n",
      " 11  ALCOHOLNAME     54745 non-null  object\n",
      " 12  MAX_SEVNAME     54745 non-null  object\n",
      " 13  MAN_COLLNAME    54745 non-null  object\n",
      " 14  RELJCT1NAME     54745 non-null  object\n",
      " 15  RELJCT2NAME     54745 non-null  object\n",
      " 16  TYP_INTNAME     54745 non-null  object\n",
      " 17  REL_ROADNAME    54745 non-null  object\n",
      " 18  LGT_CONDNAME    54745 non-null  object\n",
      " 19  WEATHERNAME     54745 non-null  object\n",
      "dtypes: int64(5), object(15)\n",
      "memory usage: 8.4+ MB\n"
     ]
    }
   ],
   "source": [
    "desired_columns = ['CASENUM', 'REGIONNAME', 'URBANICITYNAME','PJ','MONTHNAME','DAY_WEEKNAME','YEAR',\n",
    "                   'HOUR','MINUTE','HARM_EVNAME','MAN_COLLNAME','RELJCT1NAME','RELJCT2NAME','TYP_INTNAME',\n",
    "                    'REL_ROADNAME','LGT_CONDNAME','WEATHERNAME','MAX_SEVNAME','NUM_INJNAME','ALCOHOLNAME'\n",
    "                                    \n",
    "                  ]\n",
    "\n",
    "accident_df_2020=pd.read_csv('../data/CRSS_2020/accident.csv',usecols=desired_columns)\n",
    "accident_df_2020.info()"
   ]
  },
  {
   "cell_type": "code",
   "execution_count": 38,
   "id": "8c2e552b-12c4-422f-9b2f-eb8db6e36878",
   "metadata": {},
   "outputs": [
    {
     "name": "stdout",
     "output_type": "stream",
     "text": [
      "<class 'pandas.core.frame.DataFrame'>\n",
      "RangeIndex: 54409 entries, 0 to 54408\n",
      "Data columns (total 20 columns):\n",
      " #   Column          Non-Null Count  Dtype \n",
      "---  ------          --------------  ----- \n",
      " 0   CASENUM         54409 non-null  int64 \n",
      " 1   REGIONNAME      54409 non-null  object\n",
      " 2   PJ              54409 non-null  int64 \n",
      " 3   URBANICITYNAME  54409 non-null  object\n",
      " 4   NUM_INJNAME     54409 non-null  object\n",
      " 5   MONTHNAME       54409 non-null  object\n",
      " 6   YEAR            54409 non-null  int64 \n",
      " 7   DAY_WEEKNAME    54409 non-null  object\n",
      " 8   HOUR            54409 non-null  int64 \n",
      " 9   MINUTE          54409 non-null  int64 \n",
      " 10  HARM_EVNAME     54409 non-null  object\n",
      " 11  ALCOHOLNAME     54409 non-null  object\n",
      " 12  MAX_SEVNAME     54409 non-null  object\n",
      " 13  MAN_COLLNAME    54409 non-null  object\n",
      " 14  RELJCT1NAME     54409 non-null  object\n",
      " 15  RELJCT2NAME     54409 non-null  object\n",
      " 16  TYP_INTNAME     54409 non-null  object\n",
      " 17  REL_ROADNAME    54409 non-null  object\n",
      " 18  LGT_CONDNAME    54409 non-null  object\n",
      " 19  WEATHERNAME     54409 non-null  object\n",
      "dtypes: int64(5), object(15)\n",
      "memory usage: 8.3+ MB\n"
     ]
    }
   ],
   "source": [
    "desired_columns = ['CASENUM', 'REGIONNAME', 'URBANICITYNAME','PJ','MONTHNAME','DAY_WEEKNAME','YEAR',\n",
    "                   'HOUR','MINUTE','HARM_EVNAME','MAN_COLLNAME','RELJCT1NAME','RELJCT2NAME','TYP_INTNAME',\n",
    "                    'REL_ROADNAME','LGT_CONDNAME','WEATHERNAME','MAX_SEVNAME','NUM_INJNAME','ALCOHOLNAME'\n",
    "                                    \n",
    "                  ]\n",
    "\n",
    "accident_df_2019=pd.read_csv('../data/CRSS_2019/accident.csv',usecols=desired_columns)\n",
    "accident_df_2019.info()"
   ]
  },
  {
   "cell_type": "markdown",
   "id": "ddf6dd87-22f4-423c-853d-6d4a3af06b1e",
   "metadata": {},
   "source": [
    "COMBINING 2019-2023 ACCIDENT DATA"
   ]
  },
  {
   "cell_type": "code",
   "execution_count": 39,
   "id": "1d59d175-92d1-4942-9b4f-16fb11e8d2c1",
   "metadata": {},
   "outputs": [
    {
     "name": "stdout",
     "output_type": "stream",
     "text": [
      "<class 'pandas.core.frame.DataFrame'>\n",
      "Index: 267412 entries, 0 to 50102\n",
      "Data columns (total 20 columns):\n",
      " #   Column          Non-Null Count   Dtype  \n",
      "---  ------          --------------   -----  \n",
      " 0   CASENUM         267412 non-null  float64\n",
      " 1   REGIONNAME      267412 non-null  object \n",
      " 2   PJ              267412 non-null  int64  \n",
      " 3   URBANICITYNAME  267412 non-null  object \n",
      " 4   NUM_INJNAME     267412 non-null  object \n",
      " 5   MONTHNAME       267412 non-null  object \n",
      " 6   YEAR            267412 non-null  int64  \n",
      " 7   DAY_WEEKNAME    267412 non-null  object \n",
      " 8   HOUR            267412 non-null  int64  \n",
      " 9   MINUTE          267412 non-null  int64  \n",
      " 10  HARM_EVNAME     267412 non-null  object \n",
      " 11  ALCOHOLNAME     267412 non-null  object \n",
      " 12  MAX_SEVNAME     267412 non-null  object \n",
      " 13  MAN_COLLNAME    267412 non-null  object \n",
      " 14  RELJCT1NAME     267412 non-null  object \n",
      " 15  RELJCT2NAME     267412 non-null  object \n",
      " 16  TYP_INTNAME     267412 non-null  object \n",
      " 17  REL_ROADNAME    267412 non-null  object \n",
      " 18  LGT_CONDNAME    267412 non-null  object \n",
      " 19  WEATHERNAME     267412 non-null  object \n",
      "dtypes: float64(1), int64(4), object(15)\n",
      "memory usage: 42.8+ MB\n"
     ]
    }
   ],
   "source": [
    "combined_accident_df = pd.concat([accident_df_2019, accident_df_2020, accident_df_2021,accident_df_2022,accident_df_2023], axis=0)\n",
    "combined_accident_df.info()"
   ]
  },
  {
   "cell_type": "markdown",
   "id": "9b99318a-032c-470b-a9c8-8c4e5ea9e399",
   "metadata": {},
   "source": [
    "READING PERSON FILES"
   ]
  },
  {
   "cell_type": "code",
   "execution_count": 40,
   "id": "4ced872f-cfaf-4a7c-ba97-3c75c27bc71e",
   "metadata": {},
   "outputs": [
    {
     "name": "stdout",
     "output_type": "stream",
     "text": [
      "<class 'pandas.core.frame.DataFrame'>\n",
      "RangeIndex: 122388 entries, 0 to 122387\n",
      "Data columns (total 22 columns):\n",
      " #   Column          Non-Null Count   Dtype  \n",
      "---  ------          --------------   -----  \n",
      " 0   CASENUM         122388 non-null  float64\n",
      " 1   REGIONNAME      122388 non-null  object \n",
      " 2   URBANICITYNAME  122388 non-null  object \n",
      " 3   MONTHNAME       122388 non-null  object \n",
      " 4   HOUR            122388 non-null  int64  \n",
      " 5   MINUTE          122388 non-null  int64  \n",
      " 6   HARM_EVNAME     122388 non-null  object \n",
      " 7   MAN_COLLNAME    122388 non-null  object \n",
      " 8   VPICMODELNAME   117007 non-null  object \n",
      " 9   MAKENAME        117007 non-null  object \n",
      " 10  BODY_TYPNAME    117007 non-null  object \n",
      " 11  IMPACT1NAME     117007 non-null  object \n",
      " 12  AGE             122388 non-null  int64  \n",
      " 13  SEXNAME         122388 non-null  object \n",
      " 14  PER_TYPNAME     122388 non-null  object \n",
      " 15  INJ_SEVNAME     122388 non-null  object \n",
      " 16  REST_USENAME    122388 non-null  object \n",
      " 17  HELM_USENAME    122388 non-null  object \n",
      " 18  AIR_BAGNAME     122388 non-null  object \n",
      " 19  EJECTIONNAME    122388 non-null  object \n",
      " 20  LOCATIONNAME    122388 non-null  object \n",
      " 21  YEAR            122388 non-null  int64  \n",
      "dtypes: float64(1), int64(4), object(17)\n",
      "memory usage: 20.5+ MB\n"
     ]
    }
   ],
   "source": [
    "desired_columns = ['CASENUM', 'REGIONNAME', 'URBANICITYNAME','MONTHNAME','HOUR','MINUTE','HARM_EVNAME',\n",
    "                  'MAN_COLLNAME','MAKENAME','VPICMODELNAME','BODY_TYPNAME','IMPACT1NAME','AGE','SEXNAME',\n",
    "                   'PER_TYPNAME','INJ_SEVNAME','REST_USENAME','HELM_USENAME','AIR_BAGNAME','EJECTIONNAME','LOCATIONNAME'\n",
    "                  ]\n",
    "person_df_2023=pd.read_csv('../data/CRSS_2023/person.csv',usecols=desired_columns)\n",
    "person_df_2023['YEAR'] = 2023\n",
    "person_df_2023.info()"
   ]
  },
  {
   "cell_type": "code",
   "execution_count": 41,
   "id": "0ce56fd6-e1c6-4bf5-b909-1b0db19da036",
   "metadata": {},
   "outputs": [
    {
     "name": "stdout",
     "output_type": "stream",
     "text": [
      "<class 'pandas.core.frame.DataFrame'>\n",
      "RangeIndex: 132175 entries, 0 to 132174\n",
      "Data columns (total 22 columns):\n",
      " #   Column          Non-Null Count   Dtype \n",
      "---  ------          --------------   ----- \n",
      " 0   CASENUM         132175 non-null  int64 \n",
      " 1   REGIONNAME      132175 non-null  object\n",
      " 2   URBANICITYNAME  132175 non-null  object\n",
      " 3   MONTHNAME       132175 non-null  object\n",
      " 4   HOUR            132175 non-null  int64 \n",
      " 5   MINUTE          132175 non-null  int64 \n",
      " 6   HARM_EVNAME     132175 non-null  object\n",
      " 7   MAN_COLLNAME    132175 non-null  object\n",
      " 8   VPICMODELNAME   126955 non-null  object\n",
      " 9   MAKENAME        126955 non-null  object\n",
      " 10  BODY_TYPNAME    126955 non-null  object\n",
      " 11  AGE             132175 non-null  int64 \n",
      " 12  SEXNAME         132175 non-null  object\n",
      " 13  PER_TYPNAME     132175 non-null  object\n",
      " 14  INJ_SEVNAME     132175 non-null  object\n",
      " 15  REST_USENAME    132175 non-null  object\n",
      " 16  HELM_USENAME    132175 non-null  object\n",
      " 17  AIR_BAGNAME     132175 non-null  object\n",
      " 18  EJECTIONNAME    132175 non-null  object\n",
      " 19  LOCATIONNAME    132175 non-null  object\n",
      " 20  IMPACT1NAME     126955 non-null  object\n",
      " 21  YEAR            132175 non-null  int64 \n",
      "dtypes: int64(5), object(17)\n",
      "memory usage: 22.2+ MB\n"
     ]
    }
   ],
   "source": [
    "desired_columns = ['CASENUM', 'REGIONNAME', 'URBANICITYNAME','MONTHNAME','HOUR','MINUTE','HARM_EVNAME',\n",
    "                  'MAN_COLLNAME','MAKENAME','VPICMODELNAME','BODY_TYPNAME','IMPACT1NAME','AGE','SEXNAME',\n",
    "                   'PER_TYPNAME','INJ_SEVNAME','REST_USENAME','HELM_USENAME','AIR_BAGNAME','EJECTIONNAME','LOCATIONNAME'\n",
    "                  ]\n",
    "person_df_2022=pd.read_csv('../data/CRSS_2022/person.csv',usecols=desired_columns)\n",
    "person_df_2022['YEAR'] = 2022\n",
    "person_df_2022.info()                 \n"
   ]
  },
  {
   "cell_type": "code",
   "execution_count": 42,
   "id": "2ff07c11-3a22-449e-add5-2d121e3d0c32",
   "metadata": {},
   "outputs": [
    {
     "name": "stdout",
     "output_type": "stream",
     "text": [
      "<class 'pandas.core.frame.DataFrame'>\n",
      "RangeIndex: 133734 entries, 0 to 133733\n",
      "Data columns (total 22 columns):\n",
      " #   Column          Non-Null Count   Dtype \n",
      "---  ------          --------------   ----- \n",
      " 0   CASENUM         133734 non-null  int64 \n",
      " 1   REGIONNAME      133734 non-null  object\n",
      " 2   URBANICITYNAME  133734 non-null  object\n",
      " 3   MONTHNAME       133734 non-null  object\n",
      " 4   HOUR            133734 non-null  int64 \n",
      " 5   MINUTE          133734 non-null  int64 \n",
      " 6   HARM_EVNAME     133734 non-null  object\n",
      " 7   MAN_COLLNAME    133734 non-null  object\n",
      " 8   VPICMODELNAME   128705 non-null  object\n",
      " 9   MAKENAME        128705 non-null  object\n",
      " 10  BODY_TYPNAME    128705 non-null  object\n",
      " 11  AGE             133734 non-null  int64 \n",
      " 12  SEXNAME         133734 non-null  object\n",
      " 13  PER_TYPNAME     133734 non-null  object\n",
      " 14  INJ_SEVNAME     133734 non-null  object\n",
      " 15  REST_USENAME    133734 non-null  object\n",
      " 16  HELM_USENAME    133734 non-null  object\n",
      " 17  AIR_BAGNAME     133734 non-null  object\n",
      " 18  EJECTIONNAME    133734 non-null  object\n",
      " 19  LOCATIONNAME    133734 non-null  object\n",
      " 20  IMPACT1NAME     128705 non-null  object\n",
      " 21  YEAR            133734 non-null  int64 \n",
      "dtypes: int64(5), object(17)\n",
      "memory usage: 22.4+ MB\n"
     ]
    }
   ],
   "source": [
    "desired_columns = ['CASENUM', 'REGIONNAME', 'URBANICITYNAME','MONTHNAME','HOUR','MINUTE','HARM_EVNAME',\n",
    "                  'MAN_COLLNAME','MAKENAME','VPICMODELNAME','BODY_TYPNAME','IMPACT1NAME','AGE','SEXNAME',\n",
    "                   'PER_TYPNAME','INJ_SEVNAME','REST_USENAME','HELM_USENAME','AIR_BAGNAME','EJECTIONNAME','LOCATIONNAME'\n",
    "                  ]\n",
    "person_df_2021=pd.read_csv('../data/CRSS_2021/person.csv',usecols=desired_columns)\n",
    "person_df_2021['YEAR'] = 2021\n",
    "person_df_2021.info()"
   ]
  },
  {
   "cell_type": "code",
   "execution_count": 43,
   "id": "d9f5e51d-949d-4150-ac6b-2aa2e1405290",
   "metadata": {},
   "outputs": [
    {
     "name": "stdout",
     "output_type": "stream",
     "text": [
      "<class 'pandas.core.frame.DataFrame'>\n",
      "RangeIndex: 131962 entries, 0 to 131961\n",
      "Data columns (total 22 columns):\n",
      " #   Column          Non-Null Count   Dtype  \n",
      "---  ------          --------------   -----  \n",
      " 0   CASENUM         131962 non-null  float64\n",
      " 1   REGIONNAME      131962 non-null  object \n",
      " 2   URBANICITYNAME  131962 non-null  object \n",
      " 3   MONTHNAME       131962 non-null  object \n",
      " 4   HOUR            131962 non-null  int64  \n",
      " 5   MINUTE          131962 non-null  int64  \n",
      " 6   HARM_EVNAME     131962 non-null  object \n",
      " 7   MAN_COLLNAME    131962 non-null  object \n",
      " 8   MAKENAME        126885 non-null  object \n",
      " 9   BODY_TYPNAME    126885 non-null  object \n",
      " 10  IMPACT1NAME     126885 non-null  object \n",
      " 11  AGE             131962 non-null  int64  \n",
      " 12  SEXNAME         131962 non-null  object \n",
      " 13  PER_TYPNAME     131962 non-null  object \n",
      " 14  INJ_SEVNAME     131962 non-null  object \n",
      " 15  REST_USENAME    131962 non-null  object \n",
      " 16  HELM_USENAME    131962 non-null  object \n",
      " 17  AIR_BAGNAME     131962 non-null  object \n",
      " 18  EJECTIONNAME    131962 non-null  object \n",
      " 19  LOCATIONNAME    131962 non-null  object \n",
      " 20  VPICMODELNAME   126885 non-null  object \n",
      " 21  YEAR            131962 non-null  int64  \n",
      "dtypes: float64(1), int64(4), object(17)\n",
      "memory usage: 22.1+ MB\n"
     ]
    }
   ],
   "source": [
    "desired_columns = ['CASENUM', 'REGIONNAME', 'URBANICITYNAME','MONTHNAME','HOUR','MINUTE','HARM_EVNAME',\n",
    "                  'MAN_COLLNAME','MAKENAME','VPICMODELNAME','BODY_TYPNAME','IMPACT1NAME','AGE','SEXNAME',\n",
    "                   'PER_TYPNAME','INJ_SEVNAME','REST_USENAME','HELM_USENAME','AIR_BAGNAME','EJECTIONNAME','LOCATIONNAME'\n",
    "                  ]\n",
    "person_df_2020=pd.read_csv('../data/CRSS_2020/person.csv',usecols=desired_columns,encoding='ISO-8859-1')\n",
    "person_df_2020['YEAR'] = 2020\n",
    "person_df_2020.info()"
   ]
  },
  {
   "cell_type": "code",
   "execution_count": 44,
   "id": "bb6fe899-5649-42d0-b6d7-8202a68d4f57",
   "metadata": {},
   "outputs": [
    {
     "name": "stdout",
     "output_type": "stream",
     "text": [
      "<class 'pandas.core.frame.DataFrame'>\n",
      "RangeIndex: 135410 entries, 0 to 135409\n",
      "Data columns (total 22 columns):\n",
      " #   Column          Non-Null Count   Dtype  \n",
      "---  ------          --------------   -----  \n",
      " 0   CASENUM         135410 non-null  float64\n",
      " 1   REGIONNAME      135410 non-null  object \n",
      " 2   URBANICITYNAME  135410 non-null  object \n",
      " 3   MONTHNAME       135410 non-null  object \n",
      " 4   HOUR            135410 non-null  int64  \n",
      " 5   MINUTE          135410 non-null  int64  \n",
      " 6   HARM_EVNAME     135410 non-null  object \n",
      " 7   MAN_COLLNAME    135410 non-null  object \n",
      " 8   MAKENAME        130437 non-null  object \n",
      " 9   VPICMODELNAME   130437 non-null  object \n",
      " 10  BODY_TYPNAME    130437 non-null  object \n",
      " 11  IMPACT1NAME     130437 non-null  object \n",
      " 12  AGE             135410 non-null  int64  \n",
      " 13  SEXNAME         135410 non-null  object \n",
      " 14  PER_TYPNAME     135410 non-null  object \n",
      " 15  INJ_SEVNAME     135410 non-null  object \n",
      " 16  REST_USENAME    135410 non-null  object \n",
      " 17  HELM_USENAME    135410 non-null  object \n",
      " 18  AIR_BAGNAME     135410 non-null  object \n",
      " 19  EJECTIONNAME    135410 non-null  object \n",
      " 20  LOCATIONNAME    135410 non-null  object \n",
      " 21  YEAR            135410 non-null  int64  \n",
      "dtypes: float64(1), int64(4), object(17)\n",
      "memory usage: 22.7+ MB\n"
     ]
    }
   ],
   "source": [
    "desired_columns = ['CASENUM', 'REGIONNAME', 'URBANICITYNAME','MONTHNAME','HOUR','MINUTE','HARM_EVNAME',\n",
    "                  'MAN_COLLNAME','MAKENAME','VPICMODELNAME','BODY_TYPNAME','IMPACT1NAME','AGE','SEXNAME',\n",
    "                   'PER_TYPNAME','INJ_SEVNAME','REST_USENAME','HELM_USENAME','AIR_BAGNAME','EJECTIONNAME','LOCATIONNAME'\n",
    "                  ]\n",
    "person_df_2019=pd.read_csv('../data/CRSS_2019/person.csv',usecols=desired_columns,encoding='ISO-8859-1')\n",
    "person_df_2019['YEAR'] = 2019\n",
    "person_df_2019.info()"
   ]
  },
  {
   "cell_type": "markdown",
   "id": "71c502a5-f2a1-4b12-bbd3-8ea4b0ecb72c",
   "metadata": {},
   "source": [
    "COMBINING 2019-2023 PERSON DATA"
   ]
  },
  {
   "cell_type": "code",
   "execution_count": 52,
   "id": "be6c8a9b-a565-424f-ab48-6340168bc6c2",
   "metadata": {},
   "outputs": [
    {
     "name": "stdout",
     "output_type": "stream",
     "text": [
      "<class 'pandas.core.frame.DataFrame'>\n",
      "Index: 1175928 entries, 0 to 122387\n",
      "Data columns (total 22 columns):\n",
      " #   Column          Non-Null Count    Dtype  \n",
      "---  ------          --------------    -----  \n",
      " 0   CASENUM         1175928 non-null  float64\n",
      " 1   REGIONNAME      1175928 non-null  object \n",
      " 2   URBANICITYNAME  1175928 non-null  object \n",
      " 3   MONTHNAME       1175928 non-null  object \n",
      " 4   HOUR            1175928 non-null  int64  \n",
      " 5   MINUTE          1175928 non-null  int64  \n",
      " 6   HARM_EVNAME     1175928 non-null  object \n",
      " 7   MAN_COLLNAME    1175928 non-null  object \n",
      " 8   MAKENAME        1129541 non-null  object \n",
      " 9   VPICMODELNAME   1129541 non-null  object \n",
      " 10  BODY_TYPNAME    1129541 non-null  object \n",
      " 11  IMPACT1NAME     1129541 non-null  object \n",
      " 12  AGE             1175928 non-null  int64  \n",
      " 13  SEXNAME         1175928 non-null  object \n",
      " 14  PER_TYPNAME     1175928 non-null  object \n",
      " 15  INJ_SEVNAME     1175928 non-null  object \n",
      " 16  REST_USENAME    1175928 non-null  object \n",
      " 17  HELM_USENAME    1175928 non-null  object \n",
      " 18  AIR_BAGNAME     1175928 non-null  object \n",
      " 19  EJECTIONNAME    1175928 non-null  object \n",
      " 20  LOCATIONNAME    1175928 non-null  object \n",
      " 21  YEAR            1175928 non-null  int64  \n",
      "dtypes: float64(1), int64(4), object(17)\n",
      "memory usage: 206.3+ MB\n"
     ]
    }
   ],
   "source": [
    "combined_person_df = pd.concat([person_df_2019, person_df_2020, person_df_2021,person_df_2022,person_df_2023], axis=0)\n",
    "combined_person_df.info()"
   ]
  },
  {
   "cell_type": "markdown",
   "id": "da83394b-adf0-4804-93c0-d8e473d78397",
   "metadata": {},
   "source": [
    "NUMBER OF ACCIDENTS BY REGION"
   ]
  },
  {
   "cell_type": "code",
   "execution_count": 53,
   "id": "cae94189-0686-4275-b3d8-efd006bd810d",
   "metadata": {},
   "outputs": [
    {
     "data": {
      "text/html": [
       "<div>\n",
       "<style scoped>\n",
       "    .dataframe tbody tr th:only-of-type {\n",
       "        vertical-align: middle;\n",
       "    }\n",
       "\n",
       "    .dataframe tbody tr th {\n",
       "        vertical-align: top;\n",
       "    }\n",
       "\n",
       "    .dataframe thead th {\n",
       "        text-align: right;\n",
       "    }\n",
       "</style>\n",
       "<table border=\"1\" class=\"dataframe\">\n",
       "  <thead>\n",
       "    <tr style=\"text-align: right;\">\n",
       "      <th></th>\n",
       "      <th>REGIONNAME</th>\n",
       "      <th>No_of_Accidents</th>\n",
       "    </tr>\n",
       "  </thead>\n",
       "  <tbody>\n",
       "    <tr>\n",
       "      <th>2</th>\n",
       "      <td>South (MD, DE, DC, WV, VA, KY, TN, NC, SC, GA,...</td>\n",
       "      <td>355480</td>\n",
       "    </tr>\n",
       "    <tr>\n",
       "      <th>3</th>\n",
       "      <td>West (MT, ID, WA, OR, CA, NV, NM, AZ, UT, CO, ...</td>\n",
       "      <td>109675</td>\n",
       "    </tr>\n",
       "    <tr>\n",
       "      <th>0</th>\n",
       "      <td>Midwest (OH, IN, IL, MI, WI, MN, ND, SD, NE, I...</td>\n",
       "      <td>108769</td>\n",
       "    </tr>\n",
       "    <tr>\n",
       "      <th>1</th>\n",
       "      <td>Northeast (PA, NJ, NY, NH, VT, RI, MA, ME, CT)</td>\n",
       "      <td>81745</td>\n",
       "    </tr>\n",
       "  </tbody>\n",
       "</table>\n",
       "</div>"
      ],
      "text/plain": [
       "                                          REGIONNAME  No_of_Accidents\n",
       "2  South (MD, DE, DC, WV, VA, KY, TN, NC, SC, GA,...           355480\n",
       "3  West (MT, ID, WA, OR, CA, NV, NM, AZ, UT, CO, ...           109675\n",
       "0  Midwest (OH, IN, IL, MI, WI, MN, ND, SD, NE, I...           108769\n",
       "1     Northeast (PA, NJ, NY, NH, VT, RI, MA, ME, CT)            81745"
      ]
     },
     "execution_count": 53,
     "metadata": {},
     "output_type": "execute_result"
    }
   ],
   "source": [
    "region = (combined_accident_df.groupby('REGIONNAME')['CASENUM'].count()\n",
    "                                                     .reset_index(name='No_of_Accidents')\n",
    "                                                     .sort_values(by='No_of_Accidents', ascending=False)\n",
    "         )\n",
    "region\n"
   ]
  },
  {
   "cell_type": "markdown",
   "id": "99687fee-b645-46e9-8d94-dd1f74313caa",
   "metadata": {},
   "source": [
    "NUMBER OF ACCIDENTS BY AGE GROUP"
   ]
  },
  {
   "cell_type": "code",
   "execution_count": 54,
   "id": "ce5ccb9c-e305-498c-81de-dcda2a5d8d10",
   "metadata": {},
   "outputs": [
    {
     "data": {
      "text/plain": [
       "Index(['CASENUM', 'REGIONNAME', 'URBANICITYNAME', 'MONTHNAME', 'HOUR',\n",
       "       'MINUTE', 'HARM_EVNAME', 'MAN_COLLNAME', 'MAKENAME', 'VPICMODELNAME',\n",
       "       'BODY_TYPNAME', 'IMPACT1NAME', 'AGE', 'SEXNAME', 'PER_TYPNAME',\n",
       "       'INJ_SEVNAME', 'REST_USENAME', 'HELM_USENAME', 'AIR_BAGNAME',\n",
       "       'EJECTIONNAME', 'LOCATIONNAME', 'YEAR', 'AGEGROUP'],\n",
       "      dtype='object')"
      ]
     },
     "execution_count": 54,
     "metadata": {},
     "output_type": "execute_result"
    }
   ],
   "source": [
    "bins = [0, 10, 20, 30, 40, 50, 60, 70, 80, 90, float('inf')] # Use float('inf') for the upper bound of the last group\n",
    "labels = ['0-10', '11-20', '21-30', '31-40', '41-50', '51-60', '61-70', '71-80', '81-90', '91+']\n",
    "\n",
    "combined_person_df['AGEGROUP'] = pd.cut(combined_person_df['AGE'], bins=bins, labels=labels, right=True)\n",
    "combined_person_df.columns"
   ]
  },
  {
   "cell_type": "code",
   "execution_count": 56,
   "id": "249a6e1c-b88b-4897-96f4-dcb7e3a13834",
   "metadata": {},
   "outputs": [
    {
     "name": "stderr",
     "output_type": "stream",
     "text": [
      "C:\\Users\\krith\\AppData\\Local\\Temp\\ipykernel_6944\\3164111225.py:1: FutureWarning: The default of observed=False is deprecated and will be changed to True in a future version of pandas. Pass observed=False to retain current behavior or observed=True to adopt the future default and silence this warning.\n",
      "  accidents_by_age = (combined_person_df.groupby('AGEGROUP')['CASENUM'].count()\n"
     ]
    },
    {
     "data": {
      "text/html": [
       "<div>\n",
       "<style scoped>\n",
       "    .dataframe tbody tr th:only-of-type {\n",
       "        vertical-align: middle;\n",
       "    }\n",
       "\n",
       "    .dataframe tbody tr th {\n",
       "        vertical-align: top;\n",
       "    }\n",
       "\n",
       "    .dataframe thead th {\n",
       "        text-align: right;\n",
       "    }\n",
       "</style>\n",
       "<table border=\"1\" class=\"dataframe\">\n",
       "  <thead>\n",
       "    <tr style=\"text-align: right;\">\n",
       "      <th></th>\n",
       "      <th>AGEGROUP</th>\n",
       "      <th>No_of_Accidents</th>\n",
       "    </tr>\n",
       "  </thead>\n",
       "  <tbody>\n",
       "    <tr>\n",
       "      <th>2</th>\n",
       "      <td>21-30</td>\n",
       "      <td>247944</td>\n",
       "    </tr>\n",
       "    <tr>\n",
       "      <th>3</th>\n",
       "      <td>31-40</td>\n",
       "      <td>191458</td>\n",
       "    </tr>\n",
       "    <tr>\n",
       "      <th>1</th>\n",
       "      <td>11-20</td>\n",
       "      <td>160724</td>\n",
       "    </tr>\n",
       "    <tr>\n",
       "      <th>4</th>\n",
       "      <td>41-50</td>\n",
       "      <td>149267</td>\n",
       "    </tr>\n",
       "    <tr>\n",
       "      <th>5</th>\n",
       "      <td>51-60</td>\n",
       "      <td>131864</td>\n",
       "    </tr>\n",
       "    <tr>\n",
       "      <th>6</th>\n",
       "      <td>61-70</td>\n",
       "      <td>91262</td>\n",
       "    </tr>\n",
       "    <tr>\n",
       "      <th>9</th>\n",
       "      <td>91+</td>\n",
       "      <td>79916</td>\n",
       "    </tr>\n",
       "    <tr>\n",
       "      <th>0</th>\n",
       "      <td>0-10</td>\n",
       "      <td>57493</td>\n",
       "    </tr>\n",
       "    <tr>\n",
       "      <th>7</th>\n",
       "      <td>71-80</td>\n",
       "      <td>46704</td>\n",
       "    </tr>\n",
       "    <tr>\n",
       "      <th>8</th>\n",
       "      <td>81-90</td>\n",
       "      <td>14656</td>\n",
       "    </tr>\n",
       "  </tbody>\n",
       "</table>\n",
       "</div>"
      ],
      "text/plain": [
       "  AGEGROUP  No_of_Accidents\n",
       "2    21-30           247944\n",
       "3    31-40           191458\n",
       "1    11-20           160724\n",
       "4    41-50           149267\n",
       "5    51-60           131864\n",
       "6    61-70            91262\n",
       "9      91+            79916\n",
       "0     0-10            57493\n",
       "7    71-80            46704\n",
       "8    81-90            14656"
      ]
     },
     "execution_count": 56,
     "metadata": {},
     "output_type": "execute_result"
    }
   ],
   "source": [
    "accidents_by_age = (combined_person_df.groupby('AGEGROUP')['CASENUM'].count()\n",
    "                                                     .reset_index(name='No_of_Accidents')\n",
    "                                                     .sort_values(by='No_of_Accidents', ascending=False)\n",
    "                  )\n",
    "accidents_by_age"
   ]
  },
  {
   "cell_type": "markdown",
   "id": "2fa700ef-2750-42b4-81a3-75ca5fa4b584",
   "metadata": {},
   "source": [
    "NUMBER OF ACCIDENTS BY AGE GROUP AND DRIVER TYPE= DRIVER"
   ]
  },
  {
   "cell_type": "code",
   "execution_count": 57,
   "id": "02e89d8c-bd82-4291-825d-0d76cbb93f73",
   "metadata": {},
   "outputs": [
    {
     "data": {
      "text/plain": [
       "PERSON_TYPE\n",
       "Driver        840134\n",
       "Passenger     289589\n",
       "Pedestrian     26233\n",
       "Bicyclist      17009\n",
       "Others          2821\n",
       "Unknown          142\n",
       "Name: count, dtype: int64"
      ]
     },
     "execution_count": 57,
     "metadata": {},
     "output_type": "execute_result"
    }
   ],
   "source": [
    "conditions = [\n",
    "    combined_person_df['PER_TYPNAME'].str.contains('Driver', na=False),\n",
    "    combined_person_df['PER_TYPNAME'].str.contains('Passenger|Occupant', na=False),\n",
    "    combined_person_df['PER_TYPNAME'].str.contains('Pedestrian', na=False),\n",
    "    combined_person_df['PER_TYPNAME'].str.contains('Bicyclist', na=False),\n",
    "    combined_person_df['PER_TYPNAME'].str.contains('Unknown', na=False)\n",
    "]\n",
    "\n",
    "choices = ['Driver', 'Passenger', 'Pedestrian', 'Bicyclist','Unknown']\n",
    "\n",
    "combined_person_df['PERSON_TYPE'] = np.select(conditions, choices, default='Others')\n",
    "combined_person_df['PERSON_TYPE'].value_counts()"
   ]
  },
  {
   "cell_type": "code",
   "execution_count": 58,
   "id": "5136266f-7e24-4611-be26-e349929e924e",
   "metadata": {},
   "outputs": [
    {
     "name": "stderr",
     "output_type": "stream",
     "text": [
      "C:\\Users\\krith\\AppData\\Local\\Temp\\ipykernel_6944\\1115209865.py:4: FutureWarning: The default of observed=False is deprecated and will be changed to True in a future version of pandas. Pass observed=False to retain current behavior or observed=True to adopt the future default and silence this warning.\n",
      "  agegroup_counts = (filtered_df.groupby('AGEGROUP')['CASENUM'].count()\n"
     ]
    },
    {
     "data": {
      "text/html": [
       "<div>\n",
       "<style scoped>\n",
       "    .dataframe tbody tr th:only-of-type {\n",
       "        vertical-align: middle;\n",
       "    }\n",
       "\n",
       "    .dataframe tbody tr th {\n",
       "        vertical-align: top;\n",
       "    }\n",
       "\n",
       "    .dataframe thead th {\n",
       "        text-align: right;\n",
       "    }\n",
       "</style>\n",
       "<table border=\"1\" class=\"dataframe\">\n",
       "  <thead>\n",
       "    <tr style=\"text-align: right;\">\n",
       "      <th></th>\n",
       "      <th>AGEGROUP</th>\n",
       "      <th>No_of_Accidents</th>\n",
       "    </tr>\n",
       "  </thead>\n",
       "  <tbody>\n",
       "    <tr>\n",
       "      <th>2</th>\n",
       "      <td>21-30</td>\n",
       "      <td>192492</td>\n",
       "    </tr>\n",
       "    <tr>\n",
       "      <th>3</th>\n",
       "      <td>31-40</td>\n",
       "      <td>155350</td>\n",
       "    </tr>\n",
       "    <tr>\n",
       "      <th>4</th>\n",
       "      <td>41-50</td>\n",
       "      <td>122530</td>\n",
       "    </tr>\n",
       "    <tr>\n",
       "      <th>5</th>\n",
       "      <td>51-60</td>\n",
       "      <td>107528</td>\n",
       "    </tr>\n",
       "    <tr>\n",
       "      <th>1</th>\n",
       "      <td>11-20</td>\n",
       "      <td>85559</td>\n",
       "    </tr>\n",
       "    <tr>\n",
       "      <th>6</th>\n",
       "      <td>61-70</td>\n",
       "      <td>73453</td>\n",
       "    </tr>\n",
       "    <tr>\n",
       "      <th>9</th>\n",
       "      <td>91+</td>\n",
       "      <td>55914</td>\n",
       "    </tr>\n",
       "    <tr>\n",
       "      <th>7</th>\n",
       "      <td>71-80</td>\n",
       "      <td>36361</td>\n",
       "    </tr>\n",
       "    <tr>\n",
       "      <th>8</th>\n",
       "      <td>81-90</td>\n",
       "      <td>10893</td>\n",
       "    </tr>\n",
       "    <tr>\n",
       "      <th>0</th>\n",
       "      <td>0-10</td>\n",
       "      <td>54</td>\n",
       "    </tr>\n",
       "  </tbody>\n",
       "</table>\n",
       "</div>"
      ],
      "text/plain": [
       "  AGEGROUP  No_of_Accidents\n",
       "2    21-30           192492\n",
       "3    31-40           155350\n",
       "4    41-50           122530\n",
       "5    51-60           107528\n",
       "1    11-20            85559\n",
       "6    61-70            73453\n",
       "9      91+            55914\n",
       "7    71-80            36361\n",
       "8    81-90            10893\n",
       "0     0-10               54"
      ]
     },
     "execution_count": 58,
     "metadata": {},
     "output_type": "execute_result"
    }
   ],
   "source": [
    "filtered_df = combined_person_df[combined_person_df['PERSON_TYPE'] == 'Driver']\n",
    "\n",
    "# Group by AgeGroup and count CASENUM\n",
    "agegroup_counts = (filtered_df.groupby('AGEGROUP')['CASENUM'].count()\n",
    "                                                             .reset_index(name='No_of_Accidents')\n",
    "                                                             .sort_values(by='No_of_Accidents', ascending=False)\n",
    "                  )\n",
    "agegroup_counts\n"
   ]
  },
  {
   "cell_type": "markdown",
   "id": "d4bb3616-a3a7-4d92-969f-7cb34148886e",
   "metadata": {},
   "source": [
    "0-10 -> out of 7 ,6 from west or midwest and either motorcycle or gokart vehicle"
   ]
  },
  {
   "cell_type": "markdown",
   "id": "5fd2532c-4ced-4074-b42e-7711ec44f141",
   "metadata": {},
   "source": [
    "NUMBER OF ACCIDENTS BY TIME"
   ]
  },
  {
   "cell_type": "code",
   "execution_count": 59,
   "id": "b8d87ade-9207-44e5-b719-74cc3a595e2c",
   "metadata": {},
   "outputs": [
    {
     "data": {
      "text/plain": [
       "0           8:6\n",
       "1          2:12\n",
       "2          2:12\n",
       "3          2:12\n",
       "4          2:12\n",
       "          ...  \n",
       "122383     8:41\n",
       "122384     8:41\n",
       "122385    15:49\n",
       "122386    15:49\n",
       "122387    15:49\n",
       "Name: TIME, Length: 655669, dtype: object"
      ]
     },
     "execution_count": 59,
     "metadata": {},
     "output_type": "execute_result"
    }
   ],
   "source": [
    "combined_accident_df['TIME' ] = combined_accident_df['HOUR'].astype(str) + ':'+ combined_accident_df['MINUTE'].astype(str)\n",
    "\n",
    "\n",
    "combined_accident_df['TIME' ]\n"
   ]
  },
  {
   "cell_type": "code",
   "execution_count": 60,
   "id": "f729b4cd-af38-4563-b1f8-fc6d4a14ad0e",
   "metadata": {},
   "outputs": [
    {
     "data": {
      "text/plain": [
       "0           Morning\n",
       "1             Night\n",
       "2             Night\n",
       "3             Night\n",
       "4             Night\n",
       "            ...    \n",
       "122383      Morning\n",
       "122384      Morning\n",
       "122385    Afternoon\n",
       "122386    Afternoon\n",
       "122387    Afternoon\n",
       "Name: TimeOfDay, Length: 655669, dtype: object"
      ]
     },
     "execution_count": 60,
     "metadata": {},
     "output_type": "execute_result"
    }
   ],
   "source": [
    "combined_accident_df['TIME'] = pd.to_datetime(combined_accident_df['TIME'], format='%H:%M', errors='coerce')\n",
    "combined_accident_df['Hour'] = combined_accident_df['TIME'].dt.hour\n",
    "def categorize_time(t):\n",
    "    #if pd.isnull(t):\n",
    "     #   return 'Unknown'\n",
    "    hour = t.hour\n",
    "    if 6 <= hour < 12:\n",
    "        return 'Morning'\n",
    "    elif 12 <= hour < 17:\n",
    "        return 'Afternoon'\n",
    "    elif 17 <= hour < 21:\n",
    "        return 'Evening'\n",
    "    else:\n",
    "        return 'Night'\n",
    "\n",
    "\n",
    "combined_accident_df['TimeOfDay'] = combined_accident_df['TIME'].apply(categorize_time)\n",
    "combined_accident_df['TimeOfDay']\n"
   ]
  },
  {
   "cell_type": "code",
   "execution_count": 62,
   "id": "73c523a4-82ac-4e2c-849c-78c1ba73ce27",
   "metadata": {},
   "outputs": [
    {
     "data": {
      "text/html": [
       "<div>\n",
       "<style scoped>\n",
       "    .dataframe tbody tr th:only-of-type {\n",
       "        vertical-align: middle;\n",
       "    }\n",
       "\n",
       "    .dataframe tbody tr th {\n",
       "        vertical-align: top;\n",
       "    }\n",
       "\n",
       "    .dataframe thead th {\n",
       "        text-align: right;\n",
       "    }\n",
       "</style>\n",
       "<table border=\"1\" class=\"dataframe\">\n",
       "  <thead>\n",
       "    <tr style=\"text-align: right;\">\n",
       "      <th></th>\n",
       "      <th>TimeOfDay</th>\n",
       "      <th>No_of_Accidents</th>\n",
       "    </tr>\n",
       "  </thead>\n",
       "  <tbody>\n",
       "    <tr>\n",
       "      <th>0</th>\n",
       "      <td>Afternoon</td>\n",
       "      <td>235292</td>\n",
       "    </tr>\n",
       "    <tr>\n",
       "      <th>1</th>\n",
       "      <td>Evening</td>\n",
       "      <td>165011</td>\n",
       "    </tr>\n",
       "    <tr>\n",
       "      <th>2</th>\n",
       "      <td>Morning</td>\n",
       "      <td>156486</td>\n",
       "    </tr>\n",
       "    <tr>\n",
       "      <th>3</th>\n",
       "      <td>Night</td>\n",
       "      <td>98880</td>\n",
       "    </tr>\n",
       "  </tbody>\n",
       "</table>\n",
       "</div>"
      ],
      "text/plain": [
       "   TimeOfDay  No_of_Accidents\n",
       "0  Afternoon           235292\n",
       "1    Evening           165011\n",
       "2    Morning           156486\n",
       "3      Night            98880"
      ]
     },
     "execution_count": 62,
     "metadata": {},
     "output_type": "execute_result"
    }
   ],
   "source": [
    "accidents_by_time = (combined_accident_df.groupby('TimeOfDay')['CASENUM'].count()\n",
    "                                                     .reset_index(name='No_of_Accidents')\n",
    "                                                     .sort_values(by='No_of_Accidents', ascending=False)\n",
    "                  )\n",
    "accidents_by_time"
   ]
  },
  {
   "cell_type": "code",
   "execution_count": 64,
   "id": "75663e3b-4d59-4b7d-9965-2cd6b16249a1",
   "metadata": {},
   "outputs": [
    {
     "data": {
      "text/plain": [
       "(array([0, 1, 2, 3]),\n",
       " [Text(0, 0, 'Afternoon'),\n",
       "  Text(1, 0, 'Evening'),\n",
       "  Text(2, 0, 'Morning'),\n",
       "  Text(3, 0, 'Night')])"
      ]
     },
     "execution_count": 64,
     "metadata": {},
     "output_type": "execute_result"
    },
    {
     "data": {
      "image/png": "[encoded data removed]",
      "text/plain": [
       "<Figure size 640x480 with 1 Axes>"
      ]
     },
     "metadata": {},
     "output_type": "display_data"
    }
   ],
   "source": [
    "accidents_by_time.plot(x='TimeOfDay', y='No_of_Accidents', kind='bar', \n",
    "                           title='Number of Accidents by Time of Day')\n",
    "plt.xlabel('Time of Day')\n",
    "plt.ylabel('Number of Accidents')\n",
    "plt.legend().remove()\n",
    "plt.xticks(rotation=45)"
   ]
  },
  {
   "cell_type": "markdown",
   "id": "bea61462-6f8b-4f4a-8ce4-bff31370cddc",
   "metadata": {},
   "source": [
    "NUMBER OF ACCIDENTS BY GENDER"
   ]
  },
  {
   "cell_type": "code",
   "execution_count": 65,
   "id": "c7be7d80-19c2-475d-9f4e-780647b7ab40",
   "metadata": {},
   "outputs": [
    {
     "data": {
      "text/plain": [
       "0                 Male\n",
       "1                 Male\n",
       "2                 Male\n",
       "3                 Male\n",
       "4                 Male\n",
       "              ...     \n",
       "122383            Male\n",
       "122384            Male\n",
       "122385            Male\n",
       "122386            Male\n",
       "122387    Not Reported\n",
       "Name: GENDER, Length: 1175928, dtype: object"
      ]
     },
     "execution_count": 65,
     "metadata": {},
     "output_type": "execute_result"
    }
   ],
   "source": [
    "def sex_name(x):\n",
    "    if x == 'Male':\n",
    "        return 'Male'\n",
    "    elif x == 'Female':\n",
    "        return 'Female'\n",
    "    else:\n",
    "        return 'Not Reported'\n",
    "    \n",
    "    \n",
    "\n",
    "combined_person_df['GENDER'] = combined_person_df['SEXNAME'].apply(sex_name)\n",
    "combined_person_df['GENDER']"
   ]
  },
  {
   "cell_type": "code",
   "execution_count": 66,
   "id": "f866f29b-934f-41d9-8683-5a92aef69774",
   "metadata": {},
   "outputs": [
    {
     "data": {
      "text/plain": [
       "GENDER\n",
       "Male            628254\n",
       "Female          493446\n",
       "Not Reported     54228\n",
       "Name: count, dtype: int64"
      ]
     },
     "execution_count": 66,
     "metadata": {},
     "output_type": "execute_result"
    }
   ],
   "source": [
    "accident_by_gender=combined_person_df['GENDER'].value_counts()\n",
    "accident_by_gender"
   ]
  },
  {
   "cell_type": "code",
   "execution_count": 67,
   "id": "99db37c2-8a5d-4d98-a173-ce1086aaeb8b",
   "metadata": {},
   "outputs": [
    {
     "data": {
      "text/plain": [
       "(array([0, 1, 2]),\n",
       " [Text(0, 0, 'Male'), Text(1, 0, 'Female'), Text(2, 0, 'Not Reported')])"
      ]
     },
     "execution_count": 67,
     "metadata": {},
     "output_type": "execute_result"
    },
    {
     "data": {
      "image/png": "[encoded data removed]",
      "text/plain": [
       "<Figure size 640x480 with 1 Axes>"
      ]
     },
     "metadata": {},
     "output_type": "display_data"
    }
   ],
   "source": [
    "accident_by_gender.plot(x='Male ', y='No_of_Accidents', kind='bar', \n",
    "                           title='Number of Accidents by Gender')\n",
    "plt.xlabel('Gender')\n",
    "plt.ylabel('Number of Accidents')\n",
    "plt.legend().remove()\n",
    "plt.xticks(rotation=45)"
   ]
  },
  {
   "cell_type": "code",
   "execution_count": 68,
   "id": "3e9d70e5-95a2-4c93-a49e-c5c50ed49d35",
   "metadata": {},
   "outputs": [
    {
     "data": {
      "text/plain": [
       "([<matplotlib.patches.Wedge at 0x2255131f250>,\n",
       "  <matplotlib.patches.Wedge at 0x2255131f4d0>,\n",
       "  <matplotlib.patches.Wedge at 0x2255131f750>],\n",
       " [Text(-0.11817360986062428, 1.0936338500304885, 'Male'),\n",
       "  Text(-0.04095035722208697, -1.0992374940127287, 'Female'),\n",
       "  Text(1.0884764512804392, -0.15880495901558628, 'Not Reported')])"
      ]
     },
     "execution_count": 68,
     "metadata": {},
     "output_type": "execute_result"
    },
    {
     "data": {
      "image/png": "[encoded data removed]",
      "text/plain": [
       "<Figure size 640x480 with 1 Axes>"
      ]
     },
     "metadata": {},
     "output_type": "display_data"
    }
   ],
   "source": [
    "plt.pie(accident_by_gender, labels=accident_by_gender.index)   \n"
   ]
  },
  {
   "cell_type": "markdown",
   "id": "4d58907a-536f-4467-887a-75262324a4e6",
   "metadata": {},
   "source": [
    "RESTRAINT USUGE"
   ]
  },
  {
   "cell_type": "code",
   "execution_count": 70,
   "id": "e1c898da-fe7a-4697-8dfa-82f99c32bcd4",
   "metadata": {},
   "outputs": [
    {
     "data": {
      "text/plain": [
       "REST_USENAME\n",
       "Shoulder and Lap Belt Used                 889043\n",
       "Reported as Unknown                         72621\n",
       "None Used/Not Applicable                    69293\n",
       "Not a Motor Vehicle Occupant                46387\n",
       "Not Reported                                44464\n",
       "Child Restraint Type Unknown                15060\n",
       "Child Restraint System - Forward Facing     10773\n",
       "Lap Belt Only Used                           9582\n",
       "Shoulder Belt Only Used                      6246\n",
       "Restraint Used - Type Unknown                4000\n",
       "Booster Seat                                 3910\n",
       "Child Restraint System - Rear Facing         3860\n",
       "Child Restraint System  - Rear Facing         490\n",
       "Other                                         188\n",
       "Racing-Style Harness Used                      11\n",
       "Name: count, dtype: int64"
      ]
     },
     "execution_count": 70,
     "metadata": {},
     "output_type": "execute_result"
    }
   ],
   "source": [
    " combined_person_df['REST_USENAME'].value_counts()"
   ]
  },
  {
   "cell_type": "code",
   "execution_count": 71,
   "id": "4d486667-4e56-4d30-acbe-a262e7741e73",
   "metadata": {},
   "outputs": [
    {
     "data": {
      "text/plain": [
       "RESTRAINT\n",
       "Used                            927136\n",
       "Not Reported                    117085\n",
       "Not Used                         69293\n",
       "Not a Motor Vehicle Occupant     46387\n",
       "Partially Used                   15828\n",
       "Others                             199\n",
       "Name: count, dtype: int64"
      ]
     },
     "execution_count": 71,
     "metadata": {},
     "output_type": "execute_result"
    }
   ],
   "source": [
    "conditions = [\n",
    "    combined_person_df['REST_USENAME'].str.contains('Child Restraint|Booster Seat|Shoulder and Lap Belt Used|Restraint', na=False),\n",
    "    combined_person_df['REST_USENAME'].str.contains('None Used', na=False),\n",
    "    combined_person_df['REST_USENAME'].str.contains('Not a Motor Vehicle Occupant', na=False),\n",
    "    combined_person_df['REST_USENAME'].str.contains('Reported as Unknown|Not Reported', na=False),\n",
    "    combined_person_df['REST_USENAME'].str.contains('Lap Belt Only Used|Shoulder Belt Only Used', na=False)\n",
    "]\n",
    "\n",
    "choices = ['Used', 'Not Used', 'Not a Motor Vehicle Occupant', 'Not Reported','Partially Used']\n",
    "\n",
    "combined_person_df['RESTRAINT'] = np.select(conditions, choices, default='Others')\n",
    "combined_person_df['RESTRAINT'].value_counts()"
   ]
  },
  {
   "cell_type": "markdown",
   "id": "1ac52502-2d86-4202-ba4c-857f074d576c",
   "metadata": {},
   "source": [
    "DETAILS ABOUT INJURY"
   ]
  },
  {
   "cell_type": "code",
   "execution_count": 72,
   "id": "5df97eb2-de52-44bb-822d-97f99d327fed",
   "metadata": {},
   "outputs": [
    {
     "data": {
      "text/plain": [
       "INJ_SEVNAME\n",
       "No Apparent Injury (O)          774628\n",
       "Possible Injury (C)             167700\n",
       "Suspected Minor Injury (B)      114014\n",
       "Suspected Serious Injury (A)     62689\n",
       "Unknown/Not Reported             43013\n",
       "Fatal Injury (K)                 11952\n",
       "Injured, Severity Unknown         1905\n",
       "Died Prior to Crash*                27\n",
       "Name: count, dtype: int64"
      ]
     },
     "execution_count": 72,
     "metadata": {},
     "output_type": "execute_result"
    }
   ],
   "source": [
    "combined_person_df['INJ_SEVNAME'].value_counts()"
   ]
  },
  {
   "cell_type": "code",
   "execution_count": 73,
   "id": "47859424-0f2e-4fcd-8e96-4a3aa9d78c6a",
   "metadata": {},
   "outputs": [
    {
     "data": {
      "text/plain": [
       "INJURY\n",
       "No Injury          774628\n",
       "Possible Injury    169605\n",
       "Minor Injury       114014\n",
       "Serious Injury      62689\n",
       "Unknown             43013\n",
       "Fatal Injury        11952\n",
       "Died                   27\n",
       "Name: count, dtype: int64"
      ]
     },
     "execution_count": 73,
     "metadata": {},
     "output_type": "execute_result"
    }
   ],
   "source": [
    "conditions = [\n",
    "    combined_person_df['INJ_SEVNAME'].str.contains('No Apparent Injury', na=False),\n",
    "    combined_person_df['INJ_SEVNAME'].str.contains('Possible Injury|Injured', na=False),\n",
    "    combined_person_df['INJ_SEVNAME'].str.contains('Suspected Minor Injury', na=False),\n",
    "    combined_person_df['INJ_SEVNAME'].str.contains('Suspected Serious Injury', na=False),\n",
    "    combined_person_df['INJ_SEVNAME'].str.contains('Fatal Injury', na=False),\n",
    "    combined_person_df['INJ_SEVNAME'].str.contains('Died Prior to Crash', na=False)\n",
    "]\n",
    "\n",
    "choices = ['No Injury', 'Possible Injury', 'Minor Injury', 'Serious Injury','Fatal Injury','Died']\n",
    "\n",
    "combined_person_df['INJURY'] = np.select(conditions, choices, default='Unknown')\n",
    "combined_person_df['INJURY'].value_counts()"
   ]
  },
  {
   "cell_type": "markdown",
   "id": "5a68e8cb-3051-4b40-9392-d23558c3990b",
   "metadata": {},
   "source": [
    "DETAILS ABOUT COLLISION TYPE"
   ]
  },
  {
   "cell_type": "code",
   "execution_count": 74,
   "id": "4c72f023-59fd-46c4-9ecb-eb15382d7d80",
   "metadata": {},
   "outputs": [
    {
     "data": {
      "text/plain": [
       "MAN_COLLNAME\n",
       "Front-to-Rear                                                                    373430\n",
       "Angle                                                                            324580\n",
       "The First Harmful Event was Not a Collision with a Motor Vehicle In-Transport    200890\n",
       "Sideswipe - Same Direction                                                       130572\n",
       "The First Harmful Event was Not a Collision with a Motor Vehicle In Transport     62962\n",
       "Front-to-Front                                                                    48617\n",
       "Sideswipe - Opposite Direction                                                    18727\n",
       "Rear-to-Side                                                                       8199\n",
       "Other                                                                              4782\n",
       "Not Reported                                                                       2041\n",
       "Reported as Unknown                                                                 652\n",
       "Rear-to-Rear                                                                        476\n",
       "Name: count, dtype: int64"
      ]
     },
     "execution_count": 74,
     "metadata": {},
     "output_type": "execute_result"
    }
   ],
   "source": [
    "combined_person_df['MAN_COLLNAME'].value_counts()"
   ]
  },
  {
   "cell_type": "code",
   "execution_count": 75,
   "id": "39797105-4117-46cf-83d6-39408d14c054",
   "metadata": {},
   "outputs": [
    {
     "data": {
      "text/plain": [
       "COLLISION_TYPE\n",
       "Front-to-Rear     373430\n",
       "Angle             324580\n",
       "Others            270675\n",
       "Sideswipe         149299\n",
       "Front-to-Front     48617\n",
       "Rear-to-Side        8199\n",
       "Unknown              652\n",
       "Rear-to-Rear         476\n",
       "Name: count, dtype: int64"
      ]
     },
     "execution_count": 75,
     "metadata": {},
     "output_type": "execute_result"
    }
   ],
   "source": [
    "conditions = [\n",
    "    combined_person_df['MAN_COLLNAME'].str.contains('Front-to-Rear', na=False),\n",
    "    combined_person_df['MAN_COLLNAME'].str.contains('NotReported|Reported as Unknown', na=False),\n",
    "    combined_person_df['MAN_COLLNAME'].str.contains('Angle', na=False),\n",
    "    combined_person_df['MAN_COLLNAME'].str.contains('Sideswipe', na=False),\n",
    "    combined_person_df['MAN_COLLNAME'].str.contains('Front-to-Front', na=False),\n",
    "    combined_person_df['MAN_COLLNAME'].str.contains('Rear-to-Side', na=False),\n",
    "    combined_person_df['MAN_COLLNAME'].str.contains('Rear-to-Rear', na=False),\n",
    "    \n",
    "]\n",
    "\n",
    "choices = ['Front-to-Rear','Unknown', 'Angle', 'Sideswipe', 'Front-to-Front','Rear-to-Side','Rear-to-Rear']\n",
    "\n",
    "combined_person_df['COLLISION_TYPE'] = np.select(conditions, choices, default='Others')\n",
    "combined_person_df['COLLISION_TYPE'].value_counts()"
   ]
  },
  {
   "cell_type": "code",
   "execution_count": 31,
   "id": "8884985e-1945-49c3-9ab0-2076aa3f9c19",
   "metadata": {},
   "outputs": [
    {
     "name": "stdout",
     "output_type": "stream",
     "text": [
      "<class 'pandas.core.frame.DataFrame'>\n",
      "RangeIndex: 122388 entries, 0 to 122387\n",
      "Data columns (total 27 columns):\n",
      " #   Column          Non-Null Count   Dtype   \n",
      "---  ------          --------------   -----   \n",
      " 0   CASENUM         122388 non-null  float64 \n",
      " 1   REGIONNAME      122388 non-null  object  \n",
      " 2   URBANICITYNAME  122388 non-null  object  \n",
      " 3   MONTHNAME       122388 non-null  object  \n",
      " 4   HOUR            122388 non-null  int64   \n",
      " 5   MINUTE          122388 non-null  int64   \n",
      " 6   HARM_EVNAME     122388 non-null  object  \n",
      " 7   MAN_COLLNAME    122388 non-null  object  \n",
      " 8   VPICMODELNAME   117007 non-null  object  \n",
      " 9   MAKENAME        117007 non-null  object  \n",
      " 10  BODY_TYPNAME    117007 non-null  object  \n",
      " 11  IMPACT1NAME     117007 non-null  object  \n",
      " 12  AGE             122388 non-null  int64   \n",
      " 13  SEXNAME         122388 non-null  object  \n",
      " 14  PER_TYPNAME     122388 non-null  object  \n",
      " 15  INJ_SEVNAME     122388 non-null  object  \n",
      " 16  REST_USENAME    122388 non-null  object  \n",
      " 17  HELM_USENAME    122388 non-null  object  \n",
      " 18  AIR_BAGNAME     122388 non-null  object  \n",
      " 19  EJECTIONNAME    122388 non-null  object  \n",
      " 20  LOCATIONNAME    122388 non-null  object  \n",
      " 21  AGEGROUP        121859 non-null  category\n",
      " 22  PERSON_TYPE     122388 non-null  object  \n",
      " 23  GENDER          122388 non-null  object  \n",
      " 24  RESTRAINT       122388 non-null  object  \n",
      " 25  INJURY          122388 non-null  object  \n",
      " 26  COLLISION_TYPE  122388 non-null  object  \n",
      "dtypes: category(1), float64(1), int64(3), object(22)\n",
      "memory usage: 24.4+ MB\n"
     ]
    }
   ],
   "source": [
    "combined_person_df.info()"
   ]
  },
  {
   "cell_type": "code",
   "execution_count": null,
   "id": "d0898b9d-ea52-4d40-a034-b7b6dc80d3df",
   "metadata": {},
   "outputs": [],
   "source": []
  }
 ],
 "metadata": {
  "kernelspec": {
   "display_name": "Python [conda env:base] *",
   "language": "python",
   "name": "conda-base-py"
  },
  "language_info": {
   "codemirror_mode": {
    "name": "ipython",
    "version": 3
   },
   "file_extension": ".py",
   "mimetype": "text/x-python",
   "name": "python",
   "nbconvert_exporter": "python",
   "pygments_lexer": "ipython3",
   "version": "3.13.5"
  }
 },
 "nbformat": 4,
 "nbformat_minor": 5
}
